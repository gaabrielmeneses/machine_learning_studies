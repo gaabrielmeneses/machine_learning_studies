{
 "cells": [
  {
   "cell_type": "code",
   "execution_count": 3,
   "metadata": {},
   "outputs": [],
   "source": [
    "import pandas as pd\n",
    "import numpy as np\n",
    "import matplotlib.pyplot as plt\n",
    "%matplotlib inline"
   ]
  },
  {
   "cell_type": "markdown",
   "metadata": {},
   "source": [
    "## Regressão Linear"
   ]
  },
  {
   "cell_type": "markdown",
   "metadata": {},
   "source": [
    "A Regressão Linear pode ser entendida como uma equação da reta, onde existe uma variável Y (dependente) cujo valor está relacionado à X (independente). O objetivo dessa abordagem é chegar ao valor de Y a partir de X. "
   ]
  },
  {
   "cell_type": "markdown",
   "metadata": {},
   "source": [
    "De maneira geral, o objetivo do algoritmo é gerar uma reta que faça a divisão entre os pontos do gráfico abaixo."
   ]
  },
  {
   "cell_type": "code",
   "execution_count": 54,
   "metadata": {},
   "outputs": [
    {
     "data": {
      "image/png": "[encoded data removed]",
      "text/plain": [
       "<Figure size 432x288 with 1 Axes>"
      ]
     },
     "metadata": {
      "needs_background": "light"
     },
     "output_type": "display_data"
    }
   ],
   "source": [
    "np.random.seed(42)\n",
    "x = np.linspace(-10,10, 20)\n",
    "y = x * .1 + 3 + np.random.normal(0,2,size=20)\n",
    "plt.scatter(x, y)\n",
    "plt.xlabel('$X$')\n",
    "plt.ylabel('$y$')\n",
    "plt.show()"
   ]
  },
  {
   "cell_type": "markdown",
   "metadata": {},
   "source": [
    "Em um gráfico 2D, é possível traçar uma reta de maneira até simples. Entretanto, se trabalharmos com valores mais altos, ou até mesmo urealizar essa operação de forma manual "
   ]
  },
  {
   "cell_type": "code",
   "execution_count": 55,
   "metadata": {},
   "outputs": [
    {
     "data": {
      "image/png": "[encoded data removed]",
      "text/plain": [
       "<Figure size 432x288 with 1 Axes>"
      ]
     },
     "metadata": {
      "needs_background": "light"
     },
     "output_type": "display_data"
    }
   ],
   "source": [
    "plt.scatter(x, y)\n",
    "plt.scatter(1, 1 * .5 + 2, c='C4', s=100) # x=1\n",
    "plt.plot(x, x * .5 + 2, c='C1')\n",
    "plt.xlabel('$X$')\n",
    "plt.ylabel('$y$')\n",
    "plt.show()"
   ]
  },
  {
   "cell_type": "markdown",
   "metadata": {},
   "source": [
    "\\begin{equation}\n",
    "\\label{eq:linear_regression}\n",
    "y = \\alpha + \\beta X + \\epsilon\n",
    "\\end{equation}\n",
    "\n",
    "\n",
    "* $\\alpha$    =  Interceptação da reta no eixo Y \n",
    "* $\\beta$     = Coeficiente angular \n",
    "* $\\epsilon$  = Erro aleatório \n",
    "* $X$  = Variável independente "
   ]
  },
  {
   "cell_type": "markdown",
   "metadata": {},
   "source": [
    "### Gradiente descente"
   ]
  },
  {
   "cell_type": "markdown",
   "metadata": {},
   "source": [
    " "
   ]
  },
  {
   "cell_type": "markdown",
   "metadata": {},
   "source": []
  },
  {
   "cell_type": "markdown",
   "metadata": {},
   "source": [
    "## Referências\n",
    "\n",
    "[Regressão Linear Simples](https://www.ime.usp.br/~fmachado/MAE229/AULA10.pdf)\n",
    "\n",
    "[Regressão Linear Simples II](https://edisciplinas.usp.br/pluginfile.php/1479289/mod_resource/content/0/regr_lin.pdf)\n",
    "\n",
    "[Análise de Regressão](https://www.ime.unicamp.br/~nancy/Cursos/me104/regressao.pdf)\n"
   ]
  },
  {
   "cell_type": "code",
   "execution_count": null,
   "metadata": {},
   "outputs": [],
   "source": []
  }
 ],
 "metadata": {
  "kernelspec": {
   "display_name": "Python 3",
   "language": "python",
   "name": "python3"
  },
  "language_info": {
   "codemirror_mode": {
    "name": "ipython",
    "version": 3
   },
   "file_extension": ".py",
   "mimetype": "text/x-python",
   "name": "python",
   "nbconvert_exporter": "python",
   "pygments_lexer": "ipython3",
   "version": "3.7.3"
  }
 },
 "nbformat": 4,
 "nbformat_minor": 2
}
