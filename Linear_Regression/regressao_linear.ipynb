{
 "cells": [
  {
   "cell_type": "markdown",
   "metadata": {},
   "source": [
    "## Regressão Linear"
   ]
  },
  {
   "cell_type": "markdown",
   "metadata": {},
   "source": [
    "A Regressão Linear pode ser entendida como uma equação da reta, onde existe uma variável Y (dependente) cujo valor está relacionado à X (independente). Segue a fórmula. \n",
    "\n",
    "\\begin{equation}\n",
    "\\label{eq:linear_regression}\n",
    "y = \\alpha + \\beta X + \\epsilon\n",
    "\\end{equation}\n",
    "\n",
    "\n",
    "|  Símbolo    |      Significado     |\n",
    "|:-----------:|:--------------------:|\n",
    "| $\\alpha$    | Interceptação da reta no eixo Y |\n",
    "| $\\beta$     | Coeficiente angular |\n",
    "| $\\epsilon$  | Erro aleatório |\n",
    "| $X$  | Variável independente |\n",
    "| $y$  | Variável dependente |\n"
   ]
  },
  {
   "cell_type": "markdown",
   "metadata": {},
   "source": [
    "Para entender melhor, analise a relação entre <i>Taxa de analfabetismo → Expectativa de vida </i>.\n",
    "\n",
    "Veja que <strong> Taxa de analfabetismo </strong> é uma variável independente. Já a <strong> Expectativa de vida </strong> é variável dependente pois a taxa de analfabetismo  influencia em seu valor final. "
   ]
  },
  {
   "cell_type": "markdown",
   "metadata": {},
   "source": [
    "## Referências\n",
    "\n",
    "[Regressão Linear Simples](https://www.ime.usp.br/~fmachado/MAE229/AULA10.pdf)\n",
    "\n",
    "[Regressão Linear Simples II](https://edisciplinas.usp.br/pluginfile.php/1479289/mod_resource/content/0/regr_lin.pdf)\n",
    "\n",
    "[Análise de Regressão](https://www.ime.unicamp.br/~nancy/Cursos/me104/regressao.pdf)\n"
   ]
  },
  {
   "cell_type": "code",
   "execution_count": null,
   "metadata": {},
   "outputs": [],
   "source": []
  }
 ],
 "metadata": {
  "kernelspec": {
   "display_name": "Python 3",
   "language": "python",
   "name": "python3"
  },
  "language_info": {
   "codemirror_mode": {
    "name": "ipython",
    "version": 3
   },
   "file_extension": ".py",
   "mimetype": "text/x-python",
   "name": "python",
   "nbconvert_exporter": "python",
   "pygments_lexer": "ipython3",
   "version": "3.7.3"
  }
 },
 "nbformat": 4,
 "nbformat_minor": 2
}
