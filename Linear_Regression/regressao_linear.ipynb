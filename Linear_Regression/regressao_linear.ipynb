{
 "cells": [
  {
   "cell_type": "markdown",
   "metadata": {},
   "source": [
    "## Regressão Linear"
   ]
  },
  {
   "cell_type": "markdown",
   "metadata": {},
   "source": [
    "A Regressão Linear pode ser entendida como uma equação da reta, onde existe uma variável Y (dependente) cujo valor está relacionado à X (independente). \n",
    "\n",
    "\\begin{equation}\n",
    "\\label{eq:linear_regression}\n",
    "y = \\alpha + \\beta X + \\epsilon\n",
    "\\end{equation}\n",
    "\n",
    "alpha: \n",
    "\n",
    "beta:\n",
    "\n",
    "X:\n",
    "\n",
    "epsilon\n",
    "\n",
    "\n",
    "\n",
    "Por exemplo, a relação <i>Taxa de analfabetismo → Expectativa de vida </i>.\n",
    "\n",
    "\n",
    "\n",
    "<strong> Taxa de analfabetismo: </strong> Variável Independente\n",
    "    \n",
    "<strong> Expectativa de vida: </strong> Variável Dependente"
   ]
  },
  {
   "cell_type": "markdown",
   "metadata": {},
   "source": []
  }
 ],
 "metadata": {
  "kernelspec": {
   "display_name": "Python 3",
   "language": "python",
   "name": "python3"
  },
  "language_info": {
   "codemirror_mode": {
    "name": "ipython",
    "version": 3
   },
   "file_extension": ".py",
   "mimetype": "text/x-python",
   "name": "python",
   "nbconvert_exporter": "python",
   "pygments_lexer": "ipython3",
   "version": "3.7.3"
  }
 },
 "nbformat": 4,
 "nbformat_minor": 2
}
